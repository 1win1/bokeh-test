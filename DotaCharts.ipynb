{
 "cells": [
  {
   "cell_type": "code",
   "execution_count": 9,
   "metadata": {},
   "outputs": [],
   "source": [
    "import pandas as pd\n",
    "from bokeh.plotting import figure, output_file, show, ColumnDataSource\n",
    "from bokeh.models import HoverTool, CustomJS\n",
    "from bokeh.models.widgets import Select\n",
    "from bokeh.io import vform\n",
    "\n",
    "# Open the excel file as an object\n",
    "# xlsfile = pd.ExcelFile('data/top100.xlsx', header=None)\n",
    "# dframe = xlsfile.parse(header=None)\n",
    "# dframe = dframe.rename(columns={30: 'Datetime'})\n",
    "\n",
    "# Ускоряем загрузку скрипта с помощью преварительно сохранённого в файл DataFrame\n",
    "# Сохранять с помощью dframe.to_pickle('data/dframe')\n",
    "dframe = pd.read_pickle('data/dframe')"
   ]
  },
  {
   "cell_type": "code",
   "execution_count": 10,
   "metadata": {},
   "outputs": [
    {
     "data": {
      "text/plain": [
       "64"
      ]
     },
     "execution_count": 10,
     "output_type": "execute_result",
     "metadata": {}
    }
   ],
   "source": [
    "players = dframe[1].unique()\n",
    "len(players)"
   ]
  },
  {
   "cell_type": "code",
   "execution_count": 11,
   "metadata": {},
   "outputs": [
    {
     "data": {
      "text/plain": [
       "556"
      ]
     },
     "execution_count": 11,
     "output_type": "execute_result",
     "metadata": {}
    }
   ],
   "source": [
    "# Отбираем игры конкретного игрока, для примера\n",
    "# rand_counter = randint(1, len(players))\n",
    "rand_counter = 0\n",
    "player_match = dframe[dframe[1] == players[rand_counter]]\n",
    "nickname = dframe[0][rand_counter]\n",
    "len(player_match)"
   ]
  },
  {
   "cell_type": "code",
   "execution_count": 12,
   "metadata": {},
   "outputs": [
    {
     "data": {
      "text/plain": [
       "Datetime\n2014-04-30    [Invoker, Meepo, Skywrath Mage, Faceless Void,...\n2014-05-31    [Io, Tinker, Gyrocopter, Ursa, Slark, Ember Sp...\n2014-06-30    [Broodmother, Invoker, Mirana, Clockwerk, Snip...\n2014-07-31    [Broodmother, Earth Spirit, Nature's Prophet, ...\n2014-08-31                                                   []\n2014-09-30                                                 [Io]\n2014-10-31                                                   []\n2014-11-30                                                   []\n2014-12-31    [Meepo, Faceless Void, Storm Spirit, Disruptor...\n2015-01-31    [Anti-Mage, Troll Warlord, Juggernaut, Terrorb...\n2015-02-28    [Earth Spirit, Juggernaut, Io, Naga Siren, Sni...\n2015-03-31    [Io, Luna, Tiny, Juggernaut, Anti-Mage, Phanto...\n2015-04-30    [Troll Warlord, Lifestealer, Drow Ranger, Husk...\n2015-05-31                                [Ursa, Queen of Pain]\n2015-06-30                                [Gyrocopter, Leshrac]\n2015-07-31                      [Tinker, Leshrac, Storm Spirit]\n2015-08-31                                      [Lina, Leshrac]\n2015-09-30                         [Phantom Lancer, Windranger]\n2015-10-31                      [Phantom Lancer, Queen of Pain]\n2015-11-30                            [Legion Commander, Slark]\n2015-12-31                                              [Lycan]\nName: 4, dtype: object"
      ]
     },
     "execution_count": 12,
     "output_type": "execute_result",
     "metadata": {}
    }
   ],
   "source": [
    "# player_match.set_index('Datetime').groupby(pd.TimeGrouper('M'))[0].apply(lambda x: x.count())\n",
    "# player_match.set_index('Datetime').groupby(pd.TimeGrouper('M'))[4].apply(lambda x: len(x.unique()))\n",
    "\n",
    "# Получаем список героев по месяцам:\n",
    "uniq_heroes_names_month = player_match.set_index('Datetime').groupby(pd.TimeGrouper('M'))[4].unique()\n",
    "uniq_heroes_names_month"
   ]
  },
  {
   "cell_type": "code",
   "execution_count": 13,
   "metadata": {},
   "outputs": [
    {
     "data": {
      "text/plain": [
       "Datetime\n2014-04-30     7\n2014-05-31    36\n2014-06-30    13\n2014-07-31    18\n2014-08-31     0\n2014-09-30     1\n2014-10-31     0\n2014-11-30     0\n2014-12-31    32\n2015-01-31    38\n2015-02-28    10\n2015-03-31    10\n2015-04-30    23\n2015-05-31     2\n2015-06-30     2\n2015-07-31     3\n2015-08-31     2\n2015-09-30     2\n2015-10-31     2\n2015-11-30     2\n2015-12-31     1\nName: 4, dtype: int64"
      ]
     },
     "execution_count": 13,
     "output_type": "execute_result",
     "metadata": {}
    }
   ],
   "source": [
    "# Получаем количество уникальных героев по месяцам: (объект pandas.core.series.Series)\n",
    "uniq_heroes_month = player_match.set_index('Datetime').groupby(pd.TimeGrouper('M'))[4].apply(lambda x: len(x.unique()))\n",
    "uniq_heroes_month"
   ]
  },
  {
   "cell_type": "code",
   "execution_count": 14,
   "metadata": {},
   "outputs": [],
   "source": [
    ""
   ]
  },
  {
   "cell_type": "code",
   "execution_count": 14,
   "metadata": {},
   "outputs": [],
   "source": [
    "# Рисуем графики:\n",
    "output_file(\"legend.html\", title=\"legend.py example\")\n",
    "TOOLS = \"pan,wheel_zoom,box_zoom,reset,save,box_select, crosshair\"\n",
    "\n",
    "list_players = [dframe[dframe[1] == players[x]].set_index('Datetime').groupby(pd.TimeGrouper('M'))[4].apply(lambda x: len(x.unique())) for x in range(0, len(players))]\n",
    "list_players_indexes = [list_players[x].keys() for x in range(0, len(list_players))]\n",
    "\n",
    "list_uniq_heroes = [dframe[dframe[1] == players[x]].set_index('Datetime').groupby(pd.TimeGrouper('M'))[4].apply(lambda x: len(x.unique())) for x in range(0, len(players))]\n",
    "\n",
    "source = ColumnDataSource(\n",
    "        data=dict(\n",
    "            x=uniq_heroes_month.index,\n",
    "            y=uniq_heroes_month,\n",
    "            players=list_players,\n",
    "            dates=list_players_indexes,\n",
    "            nick=[nickname for x in range(len(uniq_heroes_month.index))],\n",
    "            desc=[uniq_heroes_month[x] for x in range(len(uniq_heroes_month.index))],\n",
    "            time=[uniq_heroes_month.keys()[x].strftime('%m-%Y') for x in range(len(uniq_heroes_month.index))],\n",
    "            dframe=dframe[0].unique(),\n",
    "            list_uniq_heroes=list_uniq_heroes,\n",
    "            since=[list_players[0].keys()[0].strftime('%m-%Y') for x in range(len(uniq_heroes_month.index))],\n",
    "            first_games=[list_players[x].keys()[0].strftime('%m-%Y') for x in range(0, len(players))],\n",
    "        )\n",
    "    )"
   ]
  },
  {
   "cell_type": "code",
   "execution_count": 15,
   "metadata": {},
   "outputs": [],
   "source": [
    "hover = HoverTool(\n",
    "        tooltips=[\n",
    "            (\"Index\", \"$index\"),\n",
    "            (\"Date\", \"@time\"),\n",
    "            (\"Nick:\", \"@nick\"),\n",
    "            (\"Unique heroes:\", \"@desc\"),\n",
    "            (\"Playing since:\", \"@since\"),\n",
    "        ]\n",
    "    )"
   ]
  },
  {
   "cell_type": "code",
   "execution_count": 16,
   "metadata": {},
   "outputs": [
    {
     "data": {
      "text/plain": [
       "<bokeh.models.renderers.GlyphRenderer at 0x1075152b0>"
      ]
     },
     "execution_count": 16,
     "output_type": "execute_result",
     "metadata": {}
    }
   ],
   "source": [
    "# График с группировкой по месяцам\n",
    "plot1 = figure(width=1000, height=600, name=\"foo\", title=\"Unique heroes per month\",\n",
    "               x_axis_type=\"datetime\", tools=[hover, TOOLS])\n",
    "plot1.xaxis.axis_label = 'Date'\n",
    "plot1.yaxis.axis_label = 'Heroes'\n",
    "\n",
    "\n",
    "plot1.circle('x', 'y', size=10, source=source)\n",
    "plot1.line('x', 'y', source=source)\n",
    "\n",
    "# Сам график для одного игрока можно уже выводить, но дальше добавляется интерактивная часть\n",
    "# show(plot1)"
   ]
  },
  {
   "cell_type": "code",
   "execution_count": 17,
   "metadata": {},
   "outputs": [
    {
     "name": "stderr",
     "output_type": "stream",
     "text": [
      "ERROR:/Library/Frameworks/Python.framework/Versions/3.4/lib/python3.4/site-packages/bokeh/core/validation/check.py:E-1000 (COLUMN_LENGTHS): ColumnDataSource column lengths are not all the same: ColumnDataSource, ViewModel:ColumnDataSource, ref _id: 5fb22f1d-b5ad-40f7-90d1-6fe69b5ab2d5\n"
     ]
    },
    {
     "name": "stderr",
     "output_type": "stream",
     "text": [
      "ERROR:/Library/Frameworks/Python.framework/Versions/3.4/lib/python3.4/site-packages/bokeh/core/validation/check.py:E-1000 (COLUMN_LENGTHS): ColumnDataSource column lengths are not all the same: ColumnDataSource, ViewModel:ColumnDataSource, ref _id: 5fb22f1d-b5ad-40f7-90d1-6fe69b5ab2d5\n"
     ]
    },
    {
     "name": "stderr",
     "output_type": "stream",
     "text": [
      "ERROR:/Library/Frameworks/Python.framework/Versions/3.4/lib/python3.4/site-packages/bokeh/core/validation/check.py:W-1004 (BOTH_CHILD_AND_ROOT): Models should not be a document root if they are in a layout box: Figure, ViewModel:Plot, ref _id: 9fd20c1a-c16f-49e6-836a-c72f36c9a998\n"
     ]
    }
   ],
   "source": [
    "select_callback = CustomJS(args=dict(source=source), code=\"\"\"\n",
    "    var data = source.get('data');\n",
    "    var f = cb_obj.get('value').split('\\t', 1)\n",
    "    x = data['x']\n",
    "    y = data['y']\n",
    "\n",
    "    nickname = new Array();\n",
    "    datetime = new Array();\n",
    "    fgames = new Array();\n",
    "    for (i = 0; i < data['dates'][f].length; i++) {\n",
    "            nickname.push(data['dframe'][f])\n",
    "            datetime.push(new Date(data['dates'][f][i]))\n",
    "            fgames.push(data['first_games'][f])\n",
    "        }\n",
    "    data['nick'] = nickname\n",
    "    data['x'] = data['dates'][f]\n",
    "    data['y'] = data['players'][f]\n",
    "    data['desc'] = data['list_uniq_heroes'][f]\n",
    "    var date = new Date(data['dates'][f][0]);\n",
    "    data['time'] = datetime\n",
    "    data['since'] = fgames\n",
    "    source.trigger('change');\n",
    "\"\"\")\n",
    "\n",
    "select = Select(title=\"Player:\", value=\"None\", options=[str(x)+ '\\t' + dframe[0].unique()[x] for x in range(0, len(players))], callback=select_callback)\n",
    "\n",
    "layout = vform(select,  plot1)\n",
    "output_file(\"legend.html\", title=\"legend.py example\")\n",
    "show(layout)"
   ]
  },
  {
   "cell_type": "code",
   "execution_count": null,
   "metadata": {},
   "outputs": [],
   "source": [
    ""
   ]
  }
 ],
 "metadata": {
  "kernelspec": {
   "display_name": "Python 3",
   "language": "python",
   "name": "python3"
  },
  "language_info": {
   "codemirror_mode": {
    "name": "ipython",
    "version": 3.0
   },
   "file_extension": ".py",
   "mimetype": "text/x-python",
   "name": "python",
   "nbconvert_exporter": "python",
   "pygments_lexer": "ipython3",
   "version": "3.4.3"
  }
 },
 "nbformat": 4,
 "nbformat_minor": 0
}