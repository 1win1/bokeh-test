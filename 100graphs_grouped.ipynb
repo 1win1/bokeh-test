{
 "cells": [
  {
   "cell_type": "code",
   "execution_count": 3,
   "metadata": {},
   "outputs": [],
   "source": [
    "import pandas as pd\n",
    "from bokeh.plotting import figure, output_file, show, ColumnDataSource, gridplot\n",
    "from bokeh.models import HoverTool"
   ]
  },
  {
   "cell_type": "code",
   "execution_count": 4,
   "metadata": {},
   "outputs": [],
   "source": [
    "# Чтобы открыть Excel файл как объект:\n",
    "# xlsfile = pd.ExcelFile('data/top100.xlsx', header=None)\n",
    "# dframe = xlsfile.parse(header=None)\n",
    "# dframe = dframe.rename(columns={30: 'Datetime'})\n",
    "\n",
    "# Ускоряем загрузку скрипта с помощью преварительно сохранённого в файл DataFrame\n",
    "# Сохранять с помощью dframe.to_pickle('data/dframe')\n",
    "dframe = pd.read_pickle('data/dframe')\n",
    "# Список игроков:\n",
    "players = dframe[1].unique()"
   ]
  },
  {
   "cell_type": "code",
   "execution_count": null,
   "metadata": {},
   "outputs": [],
   "source": [
    "# Готовим данные - добавляем индексы по всем матчам одного игрока и по сотням матчей для одного игрока\n",
    "list_players = []\n",
    "for x in range(len(dframe[0].unique())):\n",
    "    player_dframe = dframe[dframe[1] == players[x]]\n",
    "\n",
    "    # Отсортируем значения\n",
    "    player_dframe = player_dframe.sort_values(by='Datetime')\n",
    "\n",
    "    # Добавим счётчик всех матчей этого игрока\n",
    "    player_dframe['Сounter'] = [x for x in range(len(player_dframe))]\n",
    "\n",
    "    # Создаём индекс для группировки\n",
    "    # TODO: Сделать это красиво и в одну строчку:\n",
    "    groupper = [item for sublist in [[x for y in range(100)] for x in range(len(player_dframe) // 100)]\n",
    "                for item in sublist]\n",
    "    groupper += [groupper[-1]+1 for x in range(len(player_dframe) - len(groupper))]\n",
    "\n",
    "    # Добавляем в конец столбец с индексом для группировки (индекс 33, можно добавить название столбца)\n",
    "    # (от SettingWithCopyWarning можно избавиться, установив df.is_copy = True, но я не уверен, что это лучший путь)\n",
    "    player_dframe[len(player_dframe.columns)+1] = groupper\n",
    "\n",
    "    # Добавляем запись в список\n",
    "    list_players.append(player_dframe)"
   ]
  },
  {
   "cell_type": "code",
   "execution_count": null,
   "metadata": {},
   "outputs": [],
   "source": [
    "# Данные для оси y\n",
    "list_unique_heroes = [list_players[x].set_index('Datetime').groupby(33)[4].apply(lambda x: len(x.unique()))\n",
    "                      for x in range(len(players))]\n",
    "# Данные для оси x\n",
    "list_unique_heroes_indexes = list([list_players[x][33].unique() for x in range(0, len(list_players))])"
   ]
  },
  {
   "cell_type": "code",
   "execution_count": null,
   "metadata": {},
   "outputs": [],
   "source": [
    "# Рисуем графики:\n",
    "TOOLS = \"pan, wheel_zoom, box_zoom, reset,save, box_select, crosshair\"\n",
    "\n",
    "\n",
    "def plotsomethingnew(plot_number=0, sources=list()):\n",
    "    # Готовим данные:\n",
    "    if not isinstance(sources, list):\n",
    "        sources = []\n",
    "\n",
    "    foo_nickname = []\n",
    "    for i in range(0, len(list_unique_heroes[plot_number])):\n",
    "        foo_nickname.append(dframe[0].unique()[plot_number])\n",
    "\n",
    "    new_source = ColumnDataSource(\n",
    "        data=dict(\n",
    "            x=list_unique_heroes_indexes[plot_number], #list(pandas.core.series.Series)\n",
    "            y=list_unique_heroes[plot_number],  # pandas.core.series.Series\n",
    "            nick=foo_nickname,\n",
    "            unique_heroes=list_unique_heroes[plot_number],\n",
    "        )\n",
    "    )\n",
    "\n",
    "    foo_hover = HoverTool(\n",
    "            tooltips=[\n",
    "                (\"Index\", \"$index\"),\n",
    "                (\"Nick:\", \"@nick\"),\n",
    "                (\"Unique heroes:\", \"@unique_heroes\"),\n",
    "                # (\"Playing since:\", \"@playing_since\"),\n",
    "            ]\n",
    "        )\n",
    "    sources.append(new_source)\n",
    "\n",
    "    # Создаём график:\n",
    "    foo = figure(width=275, height=300, name=\"foo\",\n",
    "                 title=(str(plot_number) + ' ' + str(foo_nickname[0])), tools=[foo_hover, TOOLS])\n",
    "    foo.line('x', 'y', source=new_source)\n",
    "    foo.title_text_font_size = '8pt'\n",
    "    foo.xaxis.axis_label_text_font_size = '8pt'\n",
    "    foo.xaxis.major_label_orientation = 0.785  # Pi/4\n",
    "    # foo.responsive=True\n",
    "    # адаптивность не работает: http://bokeh.pydata.org/en/0.10.0/docs/user_guide/styling.html#responsive-dimensions\n",
    "    return foo"
   ]
  },
  {
   "cell_type": "code",
   "execution_count": null,
   "metadata": {},
   "outputs": [],
   "source": [
    "# Задаём выходной файл:\n",
    "output_file(\"dota_charts_hundreds.html\", title=\"Выбор героев по сотням матчей\")"
   ]
  },
  {
   "cell_type": "code",
   "execution_count": null,
   "metadata": {},
   "outputs": [],
   "source": [
    "plots = []\n",
    "plots_row = []\n",
    "plot_num = 0\n",
    "\n",
    "# Строим таблицу и помещаем графики в ячейки\n",
    "# Строим столько графиков, сколько уместится целыми рядами\n",
    "for x in range(0, (len(players) // 5)):\n",
    "    plots.append(plots_row)\n",
    "    for y in range(0, 5):\n",
    "        plots_row.append(plotsomethingnew(plot_num))\n",
    "        plot_num += 1\n",
    "    plots_row = []"
   ]
  },
  {
   "cell_type": "code",
   "execution_count": null,
   "metadata": {},
   "outputs": [],
   "source": [
    "grid_layout = gridplot(plots)\n",
    "show(grid_layout)"
   ]
  },
  {
   "cell_type": "code",
   "execution_count": null,
   "metadata": {},
   "outputs": [],
   "source": [
    ""
   ]
  }
 ],
 "metadata": {
  "kernelspec": {
   "display_name": "Python 3",
   "language": "python",
   "name": "python3"
  },
  "language_info": {
   "codemirror_mode": {
    "name": "ipython",
    "version": 3.0
   },
   "file_extension": ".py",
   "mimetype": "text/x-python",
   "name": "python",
   "nbconvert_exporter": "python",
   "pygments_lexer": "ipython3",
   "version": "3.4.3"
  }
 },
 "nbformat": 4,
 "nbformat_minor": 0
}